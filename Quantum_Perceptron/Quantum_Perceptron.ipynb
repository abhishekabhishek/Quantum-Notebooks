{
 "cells": [
  {
   "cell_type": "markdown",
   "metadata": {},
   "source": [
    "# Quantum perceptron on IBM Q"
   ]
  },
  {
   "cell_type": "markdown",
   "metadata": {},
   "source": [
    "## Table of contents\n",
    "\n",
    "### 1. [API Access Setup](#api_access_setup)\n",
    "### 2. [Classical Perceptron](#classical_perceptron)\n",
    "### 3. [Quantum Perceptron](#quantum_perceptron)\n",
    "### 4. [Implementation](#implementation)"
   ]
  },
  {
   "cell_type": "markdown",
   "metadata": {},
   "source": [
    "------------------\n",
    "------------------"
   ]
  },
  {
   "cell_type": "markdown",
   "metadata": {},
   "source": [
    "## 1. API Access Setup<a id='api_access_setup'></a>"
   ]
  },
  {
   "cell_type": "markdown",
   "metadata": {},
   "source": [
    "### Setup the filesystem access to the configuration file and register access"
   ]
  },
  {
   "cell_type": "code",
   "execution_count": 2,
   "metadata": {},
   "outputs": [],
   "source": [
    "# Setup the filesystem path to the data file\n",
    "\n",
    "# System library to be used for path management\n",
    "from os import path\n",
    "\n",
    "# Configuration file parser\n",
    "from configparser import ConfigParser\n",
    "\n",
    "# Basic qiskit modules\n",
    "from qiskit import available_backends, execute, register, least_busy"
   ]
  },
  {
   "cell_type": "code",
   "execution_count": 3,
   "metadata": {},
   "outputs": [
    {
     "name": "stdout",
     "output_type": "stream",
     "text": [
      "Home directory for the current user :  C:\\Users\\Alpha\n",
      "The configuration file currently being read C:\\Users\\Alpha\\Documents\\GitHub\\Quantum-Notebooks\\API.cfg\n"
     ]
    }
   ],
   "source": [
    "# Print the home directory path\n",
    "user_home_dir = str(path.expanduser('~'))\n",
    "print('Home directory for the current user : ', user_home_dir)\n",
    "\n",
    "# Local path to the configuration file\n",
    "config_path = 'Documents\\\\GitHub\\\\Quantum-Notebooks\\\\API.cfg'\n",
    "\n",
    "# Get the correct POSIX path of the configuration file\n",
    "configFilePath = path.join(user_home_dir, config_path)\n",
    "print(\"The configuration file currently being read \" + str(configFilePath))\n",
    "        \n",
    "# Setup the configuration reader file buffer\n",
    "configReader = ConfigParser()\n",
    "configReader.read(configFilePath)\n",
    "        \n",
    "# Get the APItoken and the URL from the configuration file and list all\n",
    "# the available backends from IBM Q\n",
    "try:\n",
    "    # Read in the API token and the URL, and register\n",
    "    register(configReader.get('API', 'APItoken'), configReader.get('API', 'URL'))\n",
    "except: \n",
    "    print('Error. Invalid token or URL entered')"
   ]
  },
  {
   "cell_type": "markdown",
   "metadata": {},
   "source": [
    "### Retrieve the least busy simulator and actual quantum backends"
   ]
  },
  {
   "cell_type": "code",
   "execution_count": 4,
   "metadata": {},
   "outputs": [
    {
     "name": "stdout",
     "output_type": "stream",
     "text": [
      "The list of available Q backends for this API token ['ibmq_16_melbourne', 'ibmqx4']\n"
     ]
    }
   ],
   "source": [
    "# List the available actual Q backends\n",
    "print('The list of available Q backends for this API token', available_backends({'local': False, 'simulator': False}))"
   ]
  },
  {
   "cell_type": "code",
   "execution_count": 5,
   "metadata": {},
   "outputs": [
    {
     "name": "stdout",
     "output_type": "stream",
     "text": [
      "The list of available remote simulator backends for this API token ['ibmq_qasm_simulator']\n"
     ]
    }
   ],
   "source": [
    "# List the remote simulator backends\n",
    "print('The list of available remote simulator backends for this API token', available_backends({'local': False, 'simulator': True}))"
   ]
  },
  {
   "cell_type": "code",
   "execution_count": 6,
   "metadata": {},
   "outputs": [],
   "source": [
    "least_busy_sim_backend = least_busy(available_backends({'simulator': True, 'local': False}))\n",
    "least_busy_actual_backend = least_busy(available_backends({'simulator': False, 'local': False}))"
   ]
  },
  {
   "cell_type": "markdown",
   "metadata": {},
   "source": [
    "-----\n",
    "-----"
   ]
  },
  {
   "cell_type": "markdown",
   "metadata": {},
   "source": [
    "## 2. Classical Perceptron<a id='classical_perceptron'></a>"
   ]
  },
  {
   "cell_type": "code",
   "execution_count": 7,
   "metadata": {},
   "outputs": [],
   "source": [
    "# Python implementation of the classical perceptron"
   ]
  },
  {
   "cell_type": "code",
   "execution_count": null,
   "metadata": {},
   "outputs": [],
   "source": []
  },
  {
   "cell_type": "code",
   "execution_count": null,
   "metadata": {},
   "outputs": [],
   "source": []
  },
  {
   "cell_type": "code",
   "execution_count": null,
   "metadata": {},
   "outputs": [],
   "source": []
  },
  {
   "cell_type": "code",
   "execution_count": null,
   "metadata": {},
   "outputs": [],
   "source": []
  },
  {
   "cell_type": "code",
   "execution_count": null,
   "metadata": {},
   "outputs": [],
   "source": []
  },
  {
   "cell_type": "code",
   "execution_count": null,
   "metadata": {},
   "outputs": [],
   "source": []
  },
  {
   "cell_type": "code",
   "execution_count": null,
   "metadata": {},
   "outputs": [],
   "source": []
  },
  {
   "cell_type": "markdown",
   "metadata": {},
   "source": [
    "-------------------\n",
    "-------------------"
   ]
  },
  {
   "cell_type": "markdown",
   "metadata": {},
   "source": [
    "## 3. Quantum Perceptron<a id='quantum_perceptron'></a>"
   ]
  },
  {
   "cell_type": "markdown",
   "metadata": {},
   "source": [
    "#### The implementation is based on the article given below :"
   ]
  },
  {
   "cell_type": "code",
   "execution_count": 1,
   "metadata": {},
   "outputs": [
    {
     "data": {
      "text/html": [
       "<iframe src=https://arxiv.org/pdf/1811.02266.pdf width=980 height=1000></iframe>"
      ],
      "text/plain": [
       "<IPython.core.display.HTML object>"
      ]
     },
     "execution_count": 1,
     "metadata": {},
     "output_type": "execute_result"
    }
   ],
   "source": [
    "# Show the pdf file using the IPython library\n",
    "from IPython.display import HTML\n",
    "HTML('<iframe src=https://arxiv.org/pdf/1811.02266.pdf width=980 height=1000></iframe>')"
   ]
  },
  {
   "cell_type": "markdown",
   "metadata": {},
   "source": [
    "#### Implementing and executing the circuit in Fig. 2."
   ]
  },
  {
   "cell_type": "markdown",
   "metadata": {},
   "source": [
    "#### Import the essential libraries"
   ]
  },
  {
   "cell_type": "code",
   "execution_count": 9,
   "metadata": {},
   "outputs": [],
   "source": [
    "# Import the QisKit modules to initialize the circuit\n",
    "\n",
    "# Basic qiskit modules\n",
    "from qiskit import QuantumRegister, ClassicalRegister, QuantumCircuit, execute\n",
    "\n",
    "# Basic visualiztion tools\n",
    "from qiskit.tools.visualization import plot_histogram, circuit_drawer"
   ]
  },
  {
   "cell_type": "code",
   "execution_count": 11,
   "metadata": {},
   "outputs": [
    {
     "data": {
      "image/png": "[encoded data removed]",
      "text/plain": [
       "<PIL.Image.Image image mode=RGB size=376x448 at 0x25732083908>"
      ]
     },
     "execution_count": 11,
     "metadata": {},
     "output_type": "execute_result"
    }
   ],
   "source": [
    "# Initialize the Quantum Circuit\n",
    "\n",
    "# Number of quantum registers\n",
    "qreg = 5\n",
    "\n",
    "# Number of classical registers\n",
    "creg = 5\n",
    "\n",
    "# Create a quantum register \"qr\" with qreg qubits\n",
    "qr = QuantumRegister(qreg)\n",
    "\n",
    "# Create a classical register called \"cr\" with creg bits\n",
    "cr = ClassicalRegister(creg)\n",
    "\n",
    "# Create a Quantum Circuit involving \"qr\" and \"cr\"\n",
    "circuit_1 = QuantumCircuit(qr, cr)\n",
    "\n",
    "# Add the operations to the Quantum circuit \n",
    "\n",
    "# Add a Hadamard gate to put the first 4 qubits in a superposition\n",
    "circuit_1.h(qr[0])\n",
    "circuit_1.h(qr[1])\n",
    "circuit_1.h(qr[2])\n",
    "circuit_1.h(qr[3])\n",
    "\n",
    "# Add the single qubit Z gate to the first 3 qubits\n",
    "circuit_1.z(qr[0])\n",
    "circuit_1.z(qr[1])\n",
    "circuit_1.z(qr[2])\n",
    "\n",
    "# Add the two-qubit controlled-Z gate to the first 3 qubits\n",
    "circuit_1.cz(qr[1], qr[2])\n",
    "circuit_1.cz(qr[0], qr[2])\n",
    "circuit_1.cz(qr[0], qr[1])\n",
    "\n",
    "    \n",
    "# Measure the last qubit in the sequence\n",
    "circuit_1.measure(qr[4], cr[4])\n",
    "\n",
    "# Draw the given circuit\n",
    "circuit_drawer(circuit_1)"
   ]
  },
  {
   "cell_type": "code",
   "execution_count": null,
   "metadata": {},
   "outputs": [],
   "source": []
  },
  {
   "cell_type": "code",
   "execution_count": null,
   "metadata": {},
   "outputs": [],
   "source": []
  },
  {
   "cell_type": "code",
   "execution_count": null,
   "metadata": {},
   "outputs": [],
   "source": []
  },
  {
   "cell_type": "code",
   "execution_count": null,
   "metadata": {},
   "outputs": [],
   "source": []
  },
  {
   "cell_type": "markdown",
   "metadata": {},
   "source": [
    "--------\n",
    "--------"
   ]
  },
  {
   "cell_type": "markdown",
   "metadata": {},
   "source": [
    "## 4. Implementation<a id='implementation'></a>"
   ]
  },
  {
   "cell_type": "markdown",
   "metadata": {},
   "source": [
    "--------------\n",
    "--------------"
   ]
  },
  {
   "cell_type": "code",
   "execution_count": null,
   "metadata": {},
   "outputs": [],
   "source": []
  }
 ],
 "metadata": {
  "kernelspec": {
   "display_name": "Python 3",
   "language": "python",
   "name": "python3"
  },
  "language_info": {
   "codemirror_mode": {
    "name": "ipython",
    "version": 3
   },
   "file_extension": ".py",
   "mimetype": "text/x-python",
   "name": "python",
   "nbconvert_exporter": "python",
   "pygments_lexer": "ipython3",
   "version": "3.6.6"
  }
 },
 "nbformat": 4,
 "nbformat_minor": 2
}
